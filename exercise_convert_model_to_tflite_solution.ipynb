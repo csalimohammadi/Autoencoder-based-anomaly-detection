{
  "cells": [
    {
      "cell_type": "markdown",
      "metadata": {
        "id": "view-in-github",
        "colab_type": "text"
      },
      "source": [
        "<a href=\"https://colab.research.google.com/github/csalimohammadi/Autoencoder-based-anomaly-detection/blob/main/exercise_convert_model_to_tflite_solution.ipynb\" target=\"_parent\"><img src=\"https://colab.research.google.com/assets/colab-badge.svg\" alt=\"Open In Colab\"/></a>"
      ]
    },
    {
      "cell_type": "markdown",
      "metadata": {
        "id": "Za8-Nr5k11fh"
      },
      "source": [
        "##### Copyright 2018 The TensorFlow Authors."
      ]
    },
    {
      "cell_type": "code",
      "execution_count": 1,
      "metadata": {
        "cellView": "form",
        "id": "Eq10uEbw0E4l"
      },
      "outputs": [],
      "source": [
        "#@title Licensed under the Apache License, Version 2.0 (the \"License\");\n",
        "# you may not use this file except in compliance with the License.\n",
        "# You may obtain a copy of the License at\n",
        "#\n",
        "# https://www.apache.org/licenses/LICENSE-2.0\n",
        "#\n",
        "# Unless required by applicable law or agreed to in writing, software\n",
        "# distributed under the License is distributed on an \"AS IS\" BASIS,\n",
        "# WITHOUT WARRANTIES OR CONDITIONS OF ANY KIND, either express or implied.\n",
        "# See the License for the specific language governing permissions and\n",
        "# limitations under the License."
      ]
    },
    {
      "cell_type": "markdown",
      "metadata": {
        "id": "06ndLauQxiQm"
      },
      "source": [
        "# Train Your Own Model and Convert It to TFLite"
      ]
    },
    {
      "cell_type": "markdown",
      "metadata": {
        "id": "Dtav_aq2xh6n"
      },
      "source": [
        "<table class=\"tfo-notebook-buttons\" align=\"left\">\n",
        "  <td>\n",
        "    <a target=\"_blank\" href=\"https://colab.research.google.com/github/tensorflow/examples/blob/master/courses/udacity_intro_to_tensorflow_lite/tflite_c04_exercise_convert_model_to_tflite_solution.ipynb\">\n",
        "    <img src=\"https://www.tensorflow.org/images/colab_logo_32px.png\" />\n",
        "    Run in Google Colab</a>\n",
        "  </td>\n",
        "  <td>\n",
        "    <a target=\"_blank\" href=\"https://github.com/tensorflow/examples/blob/master/courses/udacity_intro_to_tensorflow_lite/tflite_c04_exercise_convert_model_to_tflite_solution.ipynb\">\n",
        "    <img src=\"https://www.tensorflow.org/images/GitHub-Mark-32px.png\" />\n",
        "    View source on GitHub</a>\n",
        "  </td>\n",
        "</table>"
      ]
    },
    {
      "cell_type": "markdown",
      "metadata": {
        "id": "Ka96-ajYzxVU"
      },
      "source": [
        "This notebook uses the [Fashion MNIST](https://github.com/zalandoresearch/fashion-mnist) dataset which contains 70,000 grayscale images in 10 categories. The images show individual articles of clothing at low resolution (28 by 28 pixels), as seen here:\n",
        "\n",
        "<table>\n",
        "  <tr><td>\n",
        "    <img src=\"https://tensorflow.org/images/fashion-mnist-sprite.png\"\n",
        "         alt=\"Fashion MNIST sprite\"  width=\"600\">\n",
        "  </td></tr>\n",
        "  <tr><td align=\"center\">\n",
        "    <b>Figure 1.</b> <a href=\"https://github.com/zalandoresearch/fashion-mnist\">Fashion-MNIST samples</a> (by Zalando, MIT License).<br/>&nbsp;\n",
        "  </td></tr>\n",
        "</table>\n",
        "\n",
        "Fashion MNIST is intended as a drop-in replacement for the classic [MNIST](http://yann.lecun.com/exdb/mnist/) dataset—often used as the \"Hello, World\" of machine learning programs for computer vision. The MNIST dataset contains images of handwritten digits (0, 1, 2, etc.) in a format identical to that of the articles of clothing we'll use here.\n",
        "\n",
        "This uses Fashion MNIST for variety, and because it's a slightly more challenging problem than regular MNIST. Both datasets are relatively small and are used to verify that an algorithm works as expected. They're good starting points to test and debug code.\n",
        "\n",
        "We will use 60,000 images to train the network and 10,000 images to evaluate how accurately the network learned to classify images. You can access the Fashion MNIST directly from TensorFlow. Import and load the Fashion MNIST data directly from TensorFlow:"
      ]
    },
    {
      "cell_type": "markdown",
      "metadata": {
        "id": "rjOAfhgd__Sp"
      },
      "source": [
        "# Setup"
      ]
    },
    {
      "cell_type": "code",
      "execution_count": 2,
      "metadata": {
        "id": "pfyZKowNAQ4j",
        "colab": {
          "base_uri": "https://localhost:8080/"
        },
        "outputId": "98813d56-89b4-4d70-be7d-edb9f2a70703"
      },
      "outputs": [
        {
          "output_type": "stream",
          "name": "stdout",
          "text": [
            "2.7.0\n"
          ]
        }
      ],
      "source": [
        "# TensorFlow and tf.keras\n",
        "import tensorflow as tf\n",
        "from tensorflow import keras\n",
        "\n",
        "# Helper libraries\n",
        "import numpy as np\n",
        "import matplotlib.pyplot as plt\n",
        "import pathlib\n",
        "\n",
        "\n",
        "print(tf.__version__)"
      ]
    },
    {
      "cell_type": "markdown",
      "metadata": {
        "id": "tadPBTEiAprt"
      },
      "source": [
        "# Download Fashion MNIST Dataset"
      ]
    },
    {
      "cell_type": "code",
      "execution_count": 3,
      "metadata": {
        "id": "jmSkLCyRKqKB"
      },
      "outputs": [],
      "source": [
        "import tensorflow_datasets as tfds\n",
        "tfds.disable_progress_bar()"
      ]
    },
    {
      "cell_type": "code",
      "execution_count": 4,
      "metadata": {
        "id": "XcNwi6nFKneZ",
        "colab": {
          "base_uri": "https://localhost:8080/"
        },
        "outputId": "ab74f69e-205b-4a90-854a-701822abd567"
      },
      "outputs": [
        {
          "output_type": "stream",
          "name": "stdout",
          "text": [
            "\u001b[1mDownloading and preparing dataset fashion_mnist/3.0.1 (download: 29.45 MiB, generated: 36.42 MiB, total: 65.87 MiB) to /root/tensorflow_datasets/fashion_mnist/3.0.1...\u001b[0m\n",
            "Shuffling and writing examples to /root/tensorflow_datasets/fashion_mnist/3.0.1.incompleteZFRDSN/fashion_mnist-train.tfrecord\n",
            "Shuffling and writing examples to /root/tensorflow_datasets/fashion_mnist/3.0.1.incompleteZFRDSN/fashion_mnist-test.tfrecord\n",
            "\u001b[1mDataset fashion_mnist downloaded and prepared to /root/tensorflow_datasets/fashion_mnist/3.0.1. Subsequent calls will reuse this data.\u001b[0m\n"
          ]
        }
      ],
      "source": [
        "splits, info = tfds.load('fashion_mnist', with_info=True, as_supervised=True, \n",
        "                         split=['train[:80%]', 'train[80%:90%]', 'train[90%:]'])\n",
        "\n",
        "(train_examples, validation_examples, test_examples) = splits\n",
        "\n",
        "num_examples = info.splits['train'].num_examples\n",
        "num_classes = info.features['label'].num_classes"
      ]
    },
    {
      "cell_type": "code",
      "execution_count": 5,
      "metadata": {
        "id": "-eAv71FRm4JE"
      },
      "outputs": [],
      "source": [
        "class_names = ['T-shirt_top', 'Trouser', 'Pullover', 'Dress', 'Coat',\n",
        "               'Sandal', 'Shirt', 'Sneaker', 'Bag', 'Ankle boot']"
      ]
    },
    {
      "cell_type": "code",
      "execution_count": 6,
      "metadata": {
        "id": "hXe6jNokqX3_"
      },
      "outputs": [],
      "source": [
        "with open('labels.txt', 'w') as f:\n",
        "  f.write('\\n'.join(class_names))"
      ]
    },
    {
      "cell_type": "code",
      "execution_count": 7,
      "metadata": {
        "id": "iubWCThbdN8K"
      },
      "outputs": [],
      "source": [
        "IMG_SIZE = 28"
      ]
    },
    {
      "cell_type": "markdown",
      "metadata": {
        "id": "ZAkuq0V0Aw2X"
      },
      "source": [
        "# Preprocessing data"
      ]
    },
    {
      "cell_type": "markdown",
      "metadata": {
        "id": "_5SIivkunKCC"
      },
      "source": [
        "## Preprocess"
      ]
    },
    {
      "cell_type": "code",
      "execution_count": 8,
      "metadata": {
        "id": "BwyhsyGydHDl"
      },
      "outputs": [],
      "source": [
        "def format_example(image, label):\n",
        "  image = tf.cast(image, tf.float32)\n",
        "  image = tf.image.resize(image, (IMG_SIZE, IMG_SIZE))\n",
        "  image = image / 255.0\n",
        "  return image, label"
      ]
    },
    {
      "cell_type": "code",
      "execution_count": 9,
      "metadata": {
        "id": "HAlBlXOUMwqe"
      },
      "outputs": [],
      "source": [
        "BATCH_SIZE = 32"
      ]
    },
    {
      "cell_type": "markdown",
      "metadata": {
        "id": "JM4HfIJtnNEk"
      },
      "source": [
        "## Create a Dataset from images and labels"
      ]
    },
    {
      "cell_type": "code",
      "execution_count": 29,
      "metadata": {
        "id": "uxe2I3oxLDhq"
      },
      "outputs": [],
      "source": [
        "train_batches = train_examples.cache().shuffle(num_examples//4).batch(BATCH_SIZE).map(format_example).prefetch(1)\n",
        "validation_batches = validation_examples.cache().batch(BATCH_SIZE).map(format_example).prefetch(1)\n",
        "test_batches = test_examples.cache().batch(1).map(format_example)"
      ]
    },
    {
      "cell_type": "markdown",
      "metadata": {
        "id": "M-topQaOm_LM"
      },
      "source": [
        "# Building the model"
      ]
    },
    {
      "cell_type": "code",
      "execution_count": 11,
      "metadata": {
        "id": "kDqcwksFB1bh"
      },
      "outputs": [],
      "source": [
        "model = tf.keras.Sequential([\n",
        "  tf.keras.layers.Conv2D(16, 3, activation='relu', input_shape=(IMG_SIZE, IMG_SIZE, 1)),\n",
        "  tf.keras.layers.MaxPooling2D(),\n",
        "  tf.keras.layers.Conv2D(32, 3, activation='relu'),\n",
        "  tf.keras.layers.Flatten(),\n",
        "  tf.keras.layers.Dense(64, activation='relu'),\n",
        "  tf.keras.layers.Dense(10)\n",
        "])\n",
        "\n",
        "model.compile(\n",
        "    loss=tf.keras.losses.SparseCategoricalCrossentropy(from_logits=True),\n",
        "    optimizer='adam',\n",
        "    metrics=['accuracy'])"
      ]
    },
    {
      "cell_type": "markdown",
      "metadata": {
        "id": "zEMOz-LDnxgD"
      },
      "source": [
        "## Train"
      ]
    },
    {
      "cell_type": "code",
      "execution_count": 12,
      "metadata": {
        "id": "1fk2faPsjqfU",
        "colab": {
          "base_uri": "https://localhost:8080/"
        },
        "outputId": "6720ba1c-57d6-4c80-c449-c03fc086ffa8"
      },
      "outputs": [
        {
          "output_type": "execute_result",
          "data": {
            "text/plain": [
              "<PrefetchDataset shapes: ((None, 28, 28, 1), (None,)), types: (tf.float32, tf.int64)>"
            ]
          },
          "metadata": {},
          "execution_count": 12
        }
      ],
      "source": [
        "validation_batches"
      ]
    },
    {
      "cell_type": "code",
      "execution_count": 13,
      "metadata": {
        "id": "DGJe_CNvjnhT",
        "colab": {
          "base_uri": "https://localhost:8080/"
        },
        "outputId": "974b7c4a-78d6-4def-9e55-d15dc22b3eb3"
      },
      "outputs": [
        {
          "output_type": "execute_result",
          "data": {
            "text/plain": [
              "(<PrefetchDataset shapes: ((None, 28, 28, 1), (None,)), types: (tf.float32, tf.int64)>,)"
            ]
          },
          "metadata": {},
          "execution_count": 13
        }
      ],
      "source": [
        "train_batches, "
      ]
    },
    {
      "cell_type": "code",
      "execution_count": 14,
      "metadata": {
        "id": "JGlNoRtzCP4_",
        "colab": {
          "base_uri": "https://localhost:8080/"
        },
        "outputId": "6ce633dc-d9a0-4f67-a3ab-3b731013dfbe"
      },
      "outputs": [
        {
          "output_type": "stream",
          "name": "stdout",
          "text": [
            "Epoch 1/10\n",
            "1500/1500 [==============================] - 23s 9ms/step - loss: 0.4534 - accuracy: 0.8389 - val_loss: 0.3198 - val_accuracy: 0.8823\n",
            "Epoch 2/10\n",
            "1500/1500 [==============================] - 8s 5ms/step - loss: 0.3022 - accuracy: 0.8919 - val_loss: 0.2722 - val_accuracy: 0.8997\n",
            "Epoch 3/10\n",
            "1500/1500 [==============================] - 8s 5ms/step - loss: 0.2559 - accuracy: 0.9074 - val_loss: 0.2657 - val_accuracy: 0.9047\n",
            "Epoch 4/10\n",
            "1500/1500 [==============================] - 8s 5ms/step - loss: 0.2238 - accuracy: 0.9180 - val_loss: 0.2455 - val_accuracy: 0.9082\n",
            "Epoch 5/10\n",
            "1500/1500 [==============================] - 8s 5ms/step - loss: 0.1934 - accuracy: 0.9290 - val_loss: 0.2337 - val_accuracy: 0.9122\n",
            "Epoch 6/10\n",
            "1500/1500 [==============================] - 8s 5ms/step - loss: 0.1687 - accuracy: 0.9384 - val_loss: 0.2393 - val_accuracy: 0.9153\n",
            "Epoch 7/10\n",
            "1500/1500 [==============================] - 8s 5ms/step - loss: 0.1456 - accuracy: 0.9458 - val_loss: 0.2381 - val_accuracy: 0.9210\n",
            "Epoch 8/10\n",
            "1500/1500 [==============================] - 8s 5ms/step - loss: 0.1256 - accuracy: 0.9539 - val_loss: 0.2479 - val_accuracy: 0.9150\n",
            "Epoch 9/10\n",
            "1500/1500 [==============================] - 8s 5ms/step - loss: 0.1100 - accuracy: 0.9588 - val_loss: 0.2519 - val_accuracy: 0.9197\n",
            "Epoch 10/10\n",
            "1500/1500 [==============================] - 8s 5ms/step - loss: 0.0962 - accuracy: 0.9653 - val_loss: 0.2488 - val_accuracy: 0.9228\n"
          ]
        },
        {
          "output_type": "execute_result",
          "data": {
            "text/plain": [
              "<keras.callbacks.History at 0x7f78203afdd0>"
            ]
          },
          "metadata": {},
          "execution_count": 14
        }
      ],
      "source": [
        "model.fit(train_batches, \n",
        "          epochs=10,\n",
        "          validation_data=validation_batches)"
      ]
    },
    {
      "cell_type": "markdown",
      "metadata": {
        "id": "TZT9-7w9n4YO"
      },
      "source": [
        "# Exporting to TFLite"
      ]
    },
    {
      "cell_type": "code",
      "execution_count": 15,
      "metadata": {
        "id": "9dq78KBkCV2_",
        "colab": {
          "base_uri": "https://localhost:8080/"
        },
        "outputId": "d008d303-5772-4893-8d42-cf928d9ee4cf"
      },
      "outputs": [
        {
          "output_type": "stream",
          "name": "stdout",
          "text": [
            "INFO:tensorflow:Assets written to: saved_model/1/assets\n"
          ]
        },
        {
          "output_type": "stream",
          "name": "stderr",
          "text": [
            "INFO:tensorflow:Assets written to: saved_model/1/assets\n"
          ]
        }
      ],
      "source": [
        "export_dir = 'saved_model/1'\n",
        "tf.saved_model.save(model, export_dir)"
      ]
    },
    {
      "cell_type": "code",
      "execution_count": 16,
      "metadata": {
        "id": "EDGiYrBdE6fl"
      },
      "outputs": [],
      "source": [
        "optimization = tf.lite.Optimize.DEFAULT"
      ]
    },
    {
      "cell_type": "code",
      "execution_count": 17,
      "metadata": {
        "id": "RbcS9C00CzGe",
        "colab": {
          "base_uri": "https://localhost:8080/"
        },
        "outputId": "69ae5a66-1a0a-4401-9e13-c0f123a40477"
      },
      "outputs": [
        {
          "output_type": "stream",
          "name": "stderr",
          "text": [
            "WARNING:absl:Buffer deduplication procedure will be skipped when flatbuffer library is not properly loaded\n"
          ]
        }
      ],
      "source": [
        "# Convert the model.\n",
        "converter = tf.lite.TFLiteConverter.from_saved_model(export_dir)\n",
        "converter.optimizations = [optimization]\n",
        "tflite_model = converter.convert()"
      ]
    },
    {
      "cell_type": "code",
      "execution_count": 18,
      "metadata": {
        "id": "q5PWCDsTC3El"
      },
      "outputs": [],
      "source": [
        "tflite_model_file = 'model.tflite'\n",
        "\n",
        "with open(tflite_model_file, \"wb\") as f:\n",
        "  f.write(tflite_model)"
      ]
    },
    {
      "cell_type": "markdown",
      "metadata": {
        "id": "SR6wFcQ1Fglm"
      },
      "source": [
        "# Test the model with TFLite interpreter "
      ]
    },
    {
      "cell_type": "code",
      "execution_count": 19,
      "metadata": {
        "id": "rKcToCBEC-Bu"
      },
      "outputs": [],
      "source": [
        "# Load TFLite model and allocate tensors.\n",
        "interpreter = tf.lite.Interpreter(model_content=tflite_model)\n",
        "interpreter.allocate_tensors()\n",
        "\n",
        "input_index = interpreter.get_input_details()[0][\"index\"]\n",
        "output_index = interpreter.get_output_details()[0][\"index\"]"
      ]
    },
    {
      "cell_type": "code",
      "execution_count": 40,
      "metadata": {
        "id": "E8EpFpIBFkq8"
      },
      "outputs": [],
      "source": [
        "# Gather results for the randomly sampled test images\n",
        "predictions = []\n",
        "test_labels = []\n",
        "test_images = []\n",
        "\n",
        "for img, label in test_batches.take(50000):\n",
        "  interpreter.set_tensor(input_index, img)\n",
        "  interpreter.invoke()\n",
        "  predictions.append(interpreter.get_tensor(output_index))\n",
        "  test_labels.append(label[0])\n",
        "  test_images.append(np.array(img))"
      ]
    },
    {
      "cell_type": "code",
      "execution_count": 21,
      "metadata": {
        "cellView": "form",
        "id": "kSjTmi05Tyod"
      },
      "outputs": [],
      "source": [
        "#@title Utility functions for plotting\n",
        "# Utilities for plotting\n",
        "\n",
        "def plot_image(i, predictions_array, true_label, img):\n",
        "  predictions_array, true_label, img = predictions_array[i], true_label[i], img[i]\n",
        "  plt.grid(False)\n",
        "  plt.xticks([])\n",
        "  plt.yticks([])\n",
        "  \n",
        "  img = np.squeeze(img)\n",
        "\n",
        "  plt.imshow(img, cmap=plt.cm.binary)\n",
        "\n",
        "  predicted_label = np.argmax(predictions_array)\n",
        "  if predicted_label == true_label.numpy():\n",
        "    color = 'green'\n",
        "  else:\n",
        "    color = 'red'\n",
        "    \n",
        "  plt.xlabel(\"{} {:2.0f}% ({})\".format(class_names[predicted_label],\n",
        "                                100*np.max(predictions_array),\n",
        "                                class_names[true_label]),\n",
        "                                color=color)\n",
        "\n",
        "def plot_value_array(i, predictions_array, true_label):\n",
        "  predictions_array, true_label = predictions_array[i], true_label[i]\n",
        "  plt.grid(False)\n",
        "  plt.xticks(list(range(10)), class_names, rotation='vertical')\n",
        "  plt.yticks([])\n",
        "  thisplot = plt.bar(range(10), predictions_array[0], color=\"#777777\")\n",
        "  plt.ylim([0, 1])\n",
        "  predicted_label = np.argmax(predictions_array[0])\n",
        "\n",
        "  thisplot[predicted_label].set_color('red')\n",
        "  thisplot[true_label].set_color('green')"
      ]
    },
    {
      "cell_type": "code",
      "execution_count": 35,
      "metadata": {
        "cellView": "form",
        "id": "ZZwg0wFaVXhZ",
        "colab": {
          "base_uri": "https://localhost:8080/",
          "height": 489
        },
        "outputId": "884b2329-80b0-400a-c18c-0940031e889e"
      },
      "outputs": [
        {
          "output_type": "display_data",
          "data": {
            "image/png": "[encoded data removed]",
            "text/plain": [
              "<Figure size 432x216 with 1 Axes>"
            ]
          },
          "metadata": {}
        },
        {
          "output_type": "display_data",
          "data": {
            "image/png": "[encoded data removed]",
            "text/plain": [
              "<Figure size 432x288 with 1 Axes>"
            ]
          },
          "metadata": {
            "needs_background": "light"
          }
        }
      ],
      "source": [
        "#@title Visualize the outputs { run: \"auto\" }\n",
        "index = 12 #@param {type:\"slider\", min:1, max:50, step:1}\n",
        "plt.figure(figsize=(6,3))\n",
        "plt.subplot(1,2,1)\n",
        "plot_image(index, predictions, test_labels, test_images)\n",
        "plt.show()\n",
        "plot_value_array(index, predictions, test_labels)\n",
        "plt.show()"
      ]
    },
    {
      "cell_type": "markdown",
      "metadata": {
        "id": "076bo3FMpRDb"
      },
      "source": [
        "# Download TFLite model and assets\n",
        "\n",
        "**NOTE: You might have to run to the cell below twice**"
      ]
    },
    {
      "cell_type": "code",
      "execution_count": 41,
      "metadata": {
        "id": "XsPXqPlgZPjE",
        "colab": {
          "base_uri": "https://localhost:8080/",
          "height": 17
        },
        "outputId": "4ee5d55f-6897-409a-be28-9494917c27fb"
      },
      "outputs": [
        {
          "output_type": "display_data",
          "data": {
            "application/javascript": [
              "\n",
              "    async function download(id, filename, size) {\n",
              "      if (!google.colab.kernel.accessAllowed) {\n",
              "        return;\n",
              "      }\n",
              "      const div = document.createElement('div');\n",
              "      const label = document.createElement('label');\n",
              "      label.textContent = `Downloading \"${filename}\": `;\n",
              "      div.appendChild(label);\n",
              "      const progress = document.createElement('progress');\n",
              "      progress.max = size;\n",
              "      div.appendChild(progress);\n",
              "      document.body.appendChild(div);\n",
              "\n",
              "      const buffers = [];\n",
              "      let downloaded = 0;\n",
              "\n",
              "      const channel = await google.colab.kernel.comms.open(id);\n",
              "      // Send a message to notify the kernel that we're ready.\n",
              "      channel.send({})\n",
              "\n",
              "      for await (const message of channel.messages) {\n",
              "        // Send a message to notify the kernel that we're ready.\n",
              "        channel.send({})\n",
              "        if (message.buffers) {\n",
              "          for (const buffer of message.buffers) {\n",
              "            buffers.push(buffer);\n",
              "            downloaded += buffer.byteLength;\n",
              "            progress.value = downloaded;\n",
              "          }\n",
              "        }\n",
              "      }\n",
              "      const blob = new Blob(buffers, {type: 'application/binary'});\n",
              "      const a = document.createElement('a');\n",
              "      a.href = window.URL.createObjectURL(blob);\n",
              "      a.download = filename;\n",
              "      div.appendChild(a);\n",
              "      a.click();\n",
              "      div.remove();\n",
              "    }\n",
              "  "
            ],
            "text/plain": [
              "<IPython.core.display.Javascript object>"
            ]
          },
          "metadata": {}
        },
        {
          "output_type": "display_data",
          "data": {
            "application/javascript": [
              "download(\"download_4036de51-a1bf-42e8-b5f6-7635ed8104a6\", \"model.tflite\", 259584)"
            ],
            "text/plain": [
              "<IPython.core.display.Javascript object>"
            ]
          },
          "metadata": {}
        },
        {
          "output_type": "display_data",
          "data": {
            "application/javascript": [
              "\n",
              "    async function download(id, filename, size) {\n",
              "      if (!google.colab.kernel.accessAllowed) {\n",
              "        return;\n",
              "      }\n",
              "      const div = document.createElement('div');\n",
              "      const label = document.createElement('label');\n",
              "      label.textContent = `Downloading \"${filename}\": `;\n",
              "      div.appendChild(label);\n",
              "      const progress = document.createElement('progress');\n",
              "      progress.max = size;\n",
              "      div.appendChild(progress);\n",
              "      document.body.appendChild(div);\n",
              "\n",
              "      const buffers = [];\n",
              "      let downloaded = 0;\n",
              "\n",
              "      const channel = await google.colab.kernel.comms.open(id);\n",
              "      // Send a message to notify the kernel that we're ready.\n",
              "      channel.send({})\n",
              "\n",
              "      for await (const message of channel.messages) {\n",
              "        // Send a message to notify the kernel that we're ready.\n",
              "        channel.send({})\n",
              "        if (message.buffers) {\n",
              "          for (const buffer of message.buffers) {\n",
              "            buffers.push(buffer);\n",
              "            downloaded += buffer.byteLength;\n",
              "            progress.value = downloaded;\n",
              "          }\n",
              "        }\n",
              "      }\n",
              "      const blob = new Blob(buffers, {type: 'application/binary'});\n",
              "      const a = document.createElement('a');\n",
              "      a.href = window.URL.createObjectURL(blob);\n",
              "      a.download = filename;\n",
              "      div.appendChild(a);\n",
              "      a.click();\n",
              "      div.remove();\n",
              "    }\n",
              "  "
            ],
            "text/plain": [
              "<IPython.core.display.Javascript object>"
            ]
          },
          "metadata": {}
        },
        {
          "output_type": "display_data",
          "data": {
            "application/javascript": [
              "download(\"download_dc95d3cf-e8f3-4e74-81fd-d32a060c36db\", \"labels.txt\", 75)"
            ],
            "text/plain": [
              "<IPython.core.display.Javascript object>"
            ]
          },
          "metadata": {}
        }
      ],
      "source": [
        "try:\n",
        "  from google.colab import files\n",
        "\n",
        "  files.download(tflite_model_file)\n",
        "  files.download('labels.txt')\n",
        "except:\n",
        "  pass"
      ]
    },
    {
      "cell_type": "markdown",
      "metadata": {
        "id": "H8t7_jRiz9Vw"
      },
      "source": [
        "# Prepare the test images for download (Optional)"
      ]
    },
    {
      "cell_type": "code",
      "execution_count": 42,
      "metadata": {
        "id": "Fi09nIps0gBu"
      },
      "outputs": [],
      "source": [
        "!mkdir -p test_images"
      ]
    },
    {
      "cell_type": "code",
      "execution_count": 43,
      "metadata": {
        "id": "sF7EZ63J0hZs"
      },
      "outputs": [],
      "source": [
        "from PIL import Image\n",
        "\n",
        "for index, (image, label) in enumerate(test_batches.take(500)):\n",
        "  image = tf.cast(image * 255.0, tf.uint8)\n",
        "  image = tf.squeeze(image).numpy()\n",
        "  pil_image = Image.fromarray(image)\n",
        "  pil_image.save('test_images/{}_{}.jpg'.format(class_names[label[0]].lower(), index))"
      ]
    },
    {
      "cell_type": "code",
      "execution_count": 44,
      "metadata": {
        "id": "uM35O-uv0iWS",
        "colab": {
          "base_uri": "https://localhost:8080/"
        },
        "outputId": "c24e828d-e421-4a00-85e3-97775f52b562"
      },
      "outputs": [
        {
          "output_type": "stream",
          "name": "stdout",
          "text": [
            "'ankle boot_10.jpg'    coat_31.jpg\t  pullover_9.jpg    sneaker_389.jpg\n",
            "'ankle boot_133.jpg'   coat_355.jpg\t  sandal_0.jpg\t    sneaker_38.jpg\n",
            "'ankle boot_134.jpg'   coat_363.jpg\t  sandal_104.jpg    sneaker_393.jpg\n",
            "'ankle boot_147.jpg'   coat_367.jpg\t  sandal_105.jpg    sneaker_407.jpg\n",
            "'ankle boot_154.jpg'   coat_374.jpg\t  sandal_109.jpg    sneaker_412.jpg\n",
            "'ankle boot_165.jpg'   coat_381.jpg\t  sandal_120.jpg    sneaker_418.jpg\n",
            "'ankle boot_171.jpg'   coat_384.jpg\t  sandal_126.jpg    sneaker_41.jpg\n",
            "'ankle boot_175.jpg'   coat_392.jpg\t  sandal_139.jpg    sneaker_423.jpg\n",
            "'ankle boot_183.jpg'   coat_406.jpg\t  sandal_14.jpg     sneaker_42.jpg\n",
            "'ankle boot_191.jpg'   coat_40.jpg\t  sandal_194.jpg    sneaker_434.jpg\n",
            "'ankle boot_205.jpg'   coat_428.jpg\t  sandal_19.jpg     sneaker_43.jpg\n",
            "'ankle boot_214.jpg'   coat_431.jpg\t  sandal_201.jpg    sneaker_448.jpg\n",
            "'ankle boot_224.jpg'   coat_452.jpg\t  sandal_217.jpg    sneaker_451.jpg\n",
            "'ankle boot_242.jpg'   coat_46.jpg\t  sandal_218.jpg    sneaker_459.jpg\n",
            "'ankle boot_255.jpg'   coat_475.jpg\t  sandal_227.jpg    sneaker_469.jpg\n",
            "'ankle boot_265.jpg'   coat_485.jpg\t  sandal_229.jpg    sneaker_477.jpg\n",
            "'ankle boot_302.jpg'   coat_487.jpg\t  sandal_232.jpg    sneaker_494.jpg\n",
            "'ankle boot_325.jpg'   coat_48.jpg\t  sandal_248.jpg    sneaker_51.jpg\n",
            "'ankle boot_327.jpg'   coat_498.jpg\t  sandal_260.jpg    sneaker_64.jpg\n",
            "'ankle boot_32.jpg'    coat_56.jpg\t  sandal_272.jpg    sneaker_80.jpg\n",
            "'ankle boot_330.jpg'   coat_63.jpg\t  sandal_283.jpg    sneaker_90.jpg\n",
            "'ankle boot_349.jpg'   coat_65.jpg\t  sandal_294.jpg    sneaker_91.jpg\n",
            "'ankle boot_360.jpg'   coat_73.jpg\t  sandal_2.jpg\t    sneaker_96.jpg\n",
            "'ankle boot_364.jpg'   coat_78.jpg\t  sandal_303.jpg    sneaker_99.jpg\n",
            "'ankle boot_370.jpg'   coat_86.jpg\t  sandal_304.jpg    trouser_110.jpg\n",
            "'ankle boot_375.jpg'   dress_102.jpg\t  sandal_305.jpg    trouser_113.jpg\n",
            "'ankle boot_377.jpg'   dress_112.jpg\t  sandal_307.jpg    trouser_130.jpg\n",
            "'ankle boot_413.jpg'   dress_116.jpg\t  sandal_323.jpg    trouser_136.jpg\n",
            "'ankle boot_417.jpg'   dress_119.jpg\t  sandal_328.jpg    trouser_149.jpg\n",
            "'ankle boot_445.jpg'   dress_12.jpg\t  sandal_342.jpg    trouser_151.jpg\n",
            "'ankle boot_461.jpg'   dress_137.jpg\t  sandal_352.jpg    trouser_152.jpg\n",
            "'ankle boot_495.jpg'   dress_150.jpg\t  sandal_354.jpg    trouser_158.jpg\n",
            "'ankle boot_4.jpg'     dress_170.jpg\t  sandal_359.jpg    trouser_160.jpg\n",
            "'ankle boot_52.jpg'    dress_179.jpg\t  sandal_382.jpg    trouser_164.jpg\n",
            "'ankle boot_59.jpg'    dress_180.jpg\t  sandal_386.jpg    trouser_169.jpg\n",
            "'ankle boot_66.jpg'    dress_197.jpg\t  sandal_390.jpg    trouser_172.jpg\n",
            "'ankle boot_76.jpg'    dress_215.jpg\t  sandal_397.jpg    trouser_173.jpg\n",
            "'ankle boot_79.jpg'    dress_230.jpg\t  sandal_398.jpg    trouser_195.jpg\n",
            "'ankle boot_81.jpg'    dress_237.jpg\t  sandal_39.jpg     trouser_202.jpg\n",
            "'ankle boot_82.jpg'    dress_244.jpg\t  sandal_401.jpg    trouser_203.jpg\n",
            "'ankle boot_87.jpg'    dress_252.jpg\t  sandal_416.jpg    trouser_206.jpg\n",
            " bag_101.jpg\t       dress_256.jpg\t  sandal_441.jpg    trouser_20.jpg\n",
            " bag_106.jpg\t       dress_258.jpg\t  sandal_442.jpg    trouser_210.jpg\n",
            " bag_111.jpg\t       dress_264.jpg\t  sandal_458.jpg    trouser_22.jpg\n",
            " bag_135.jpg\t       dress_267.jpg\t  sandal_460.jpg    trouser_245.jpg\n",
            " bag_143.jpg\t       dress_276.jpg\t  sandal_466.jpg    trouser_254.jpg\n",
            " bag_157.jpg\t       dress_291.jpg\t  sandal_474.jpg    trouser_259.jpg\n",
            " bag_159.jpg\t       dress_298.jpg\t  sandal_486.jpg    trouser_310.jpg\n",
            " bag_162.jpg\t       dress_29.jpg\t  sandal_492.jpg    trouser_333.jpg\n",
            " bag_16.jpg\t       dress_300.jpg\t  sandal_499.jpg    trouser_35.jpg\n",
            " bag_177.jpg\t       dress_301.jpg\t  sandal_55.jpg     trouser_361.jpg\n",
            " bag_17.jpg\t       dress_306.jpg\t  sandal_89.jpg     trouser_368.jpg\n",
            " bag_185.jpg\t       dress_308.jpg\t  shirt_129.jpg     trouser_369.jpg\n",
            " bag_187.jpg\t       dress_315.jpg\t  shirt_145.jpg     trouser_385.jpg\n",
            " bag_192.jpg\t       dress_319.jpg\t  shirt_148.jpg     trouser_395.jpg\n",
            " bag_199.jpg\t       dress_320.jpg\t  shirt_163.jpg     trouser_396.jpg\n",
            " bag_200.jpg\t       dress_331.jpg\t  shirt_166.jpg     trouser_403.jpg\n",
            " bag_208.jpg\t       dress_337.jpg\t  shirt_168.jpg     trouser_405.jpg\n",
            " bag_233.jpg\t       dress_341.jpg\t  shirt_186.jpg     trouser_435.jpg\n",
            " bag_234.jpg\t       dress_343.jpg\t  shirt_190.jpg     trouser_450.jpg\n",
            " bag_235.jpg\t       dress_345.jpg\t  shirt_198.jpg     trouser_456.jpg\n",
            " bag_23.jpg\t       dress_351.jpg\t  shirt_212.jpg     trouser_467.jpg\n",
            " bag_243.jpg\t       dress_353.jpg\t  shirt_219.jpg     trouser_471.jpg\n",
            " bag_247.jpg\t       dress_356.jpg\t  shirt_220.jpg     trouser_472.jpg\n",
            " bag_250.jpg\t       dress_365.jpg\t  shirt_223.jpg     trouser_478.jpg\n",
            " bag_251.jpg\t       dress_371.jpg\t  shirt_225.jpg     trouser_480.jpg\n",
            " bag_262.jpg\t       dress_372.jpg\t  shirt_238.jpg     trouser_488.jpg\n",
            " bag_268.jpg\t       dress_378.jpg\t  shirt_239.jpg     trouser_489.jpg\n",
            " bag_270.jpg\t       dress_37.jpg\t  shirt_246.jpg     trouser_49.jpg\n",
            " bag_280.jpg\t       dress_387.jpg\t  shirt_253.jpg     trouser_70.jpg\n",
            " bag_282.jpg\t       dress_400.jpg\t  shirt_27.jpg\t    trouser_95.jpg\n",
            " bag_286.jpg\t       dress_408.jpg\t  shirt_292.jpg     t-shirt_top_114.jpg\n",
            " bag_316.jpg\t       dress_415.jpg\t  shirt_313.jpg     t-shirt_top_121.jpg\n",
            " bag_334.jpg\t       dress_420.jpg\t  shirt_322.jpg     t-shirt_top_122.jpg\n",
            " bag_344.jpg\t       dress_422.jpg\t  shirt_326.jpg     t-shirt_top_140.jpg\n",
            " bag_34.jpg\t       dress_45.jpg\t  shirt_335.jpg     t-shirt_top_153.jpg\n",
            " bag_357.jpg\t       dress_484.jpg\t  shirt_336.jpg     t-shirt_top_15.jpg\n",
            " bag_36.jpg\t       dress_496.jpg\t  shirt_33.jpg\t    t-shirt_top_167.jpg\n",
            " bag_380.jpg\t       dress_50.jpg\t  shirt_348.jpg     t-shirt_top_178.jpg\n",
            " bag_388.jpg\t       dress_58.jpg\t  shirt_376.jpg     t-shirt_top_181.jpg\n",
            " bag_391.jpg\t       dress_62.jpg\t  shirt_410.jpg     t-shirt_top_184.jpg\n",
            " bag_394.jpg\t       dress_6.jpg\t  shirt_411.jpg     t-shirt_top_188.jpg\n",
            " bag_3.jpg\t       dress_75.jpg\t  shirt_421.jpg     t-shirt_top_189.jpg\n",
            " bag_404.jpg\t       dress_88.jpg\t  shirt_426.jpg     t-shirt_top_18.jpg\n",
            " bag_419.jpg\t       pullover_107.jpg   shirt_429.jpg     t-shirt_top_1.jpg\n",
            " bag_425.jpg\t       pullover_108.jpg   shirt_430.jpg     t-shirt_top_204.jpg\n",
            " bag_437.jpg\t       pullover_124.jpg   shirt_433.jpg     t-shirt_top_21.jpg\n",
            " bag_443.jpg\t       pullover_128.jpg   shirt_440.jpg     t-shirt_top_221.jpg\n",
            " bag_446.jpg\t       pullover_138.jpg   shirt_453.jpg     t-shirt_top_228.jpg\n",
            " bag_454.jpg\t       pullover_142.jpg   shirt_455.jpg     t-shirt_top_231.jpg\n",
            " bag_468.jpg\t       pullover_144.jpg   shirt_464.jpg     t-shirt_top_249.jpg\n",
            " bag_470.jpg\t       pullover_146.jpg   shirt_465.jpg     t-shirt_top_274.jpg\n",
            " bag_490.jpg\t       pullover_155.jpg   shirt_473.jpg     t-shirt_top_279.jpg\n",
            " bag_493.jpg\t       pullover_161.jpg   shirt_479.jpg     t-shirt_top_289.jpg\n",
            " bag_67.jpg\t       pullover_211.jpg   shirt_53.jpg\t    t-shirt_top_290.jpg\n",
            " bag_68.jpg\t       pullover_216.jpg   shirt_5.jpg\t    t-shirt_top_314.jpg\n",
            " bag_77.jpg\t       pullover_236.jpg   shirt_61.jpg\t    t-shirt_top_324.jpg\n",
            " bag_7.jpg\t       pullover_261.jpg   shirt_84.jpg\t    t-shirt_top_332.jpg\n",
            " bag_85.jpg\t       pullover_263.jpg   shirt_94.jpg\t    t-shirt_top_339.jpg\n",
            " bag_92.jpg\t       pullover_266.jpg   sneaker_117.jpg   t-shirt_top_350.jpg\n",
            " coat_100.jpg\t       pullover_277.jpg   sneaker_125.jpg   t-shirt_top_373.jpg\n",
            " coat_103.jpg\t       pullover_278.jpg   sneaker_127.jpg   t-shirt_top_383.jpg\n",
            " coat_115.jpg\t       pullover_281.jpg   sneaker_132.jpg   t-shirt_top_402.jpg\n",
            " coat_118.jpg\t       pullover_287.jpg   sneaker_13.jpg    t-shirt_top_414.jpg\n",
            " coat_11.jpg\t       pullover_28.jpg\t  sneaker_156.jpg   t-shirt_top_436.jpg\n",
            " coat_123.jpg\t       pullover_309.jpg   sneaker_196.jpg   t-shirt_top_438.jpg\n",
            " coat_131.jpg\t       pullover_317.jpg   sneaker_213.jpg   t-shirt_top_439.jpg\n",
            " coat_141.jpg\t       pullover_321.jpg   sneaker_240.jpg   t-shirt_top_444.jpg\n",
            " coat_174.jpg\t       pullover_340.jpg   sneaker_24.jpg    t-shirt_top_447.jpg\n",
            " coat_176.jpg\t       pullover_358.jpg   sneaker_257.jpg   t-shirt_top_449.jpg\n",
            " coat_182.jpg\t       pullover_362.jpg   sneaker_25.jpg    t-shirt_top_462.jpg\n",
            " coat_193.jpg\t       pullover_379.jpg   sneaker_26.jpg    t-shirt_top_476.jpg\n",
            " coat_207.jpg\t       pullover_399.jpg   sneaker_273.jpg   t-shirt_top_47.jpg\n",
            " coat_209.jpg\t       pullover_409.jpg   sneaker_288.jpg   t-shirt_top_481.jpg\n",
            " coat_222.jpg\t       pullover_424.jpg   sneaker_293.jpg   t-shirt_top_482.jpg\n",
            " coat_226.jpg\t       pullover_427.jpg   sneaker_296.jpg   t-shirt_top_483.jpg\n",
            " coat_241.jpg\t       pullover_432.jpg   sneaker_297.jpg   t-shirt_top_491.jpg\n",
            " coat_269.jpg\t       pullover_44.jpg\t  sneaker_299.jpg   t-shirt_top_497.jpg\n",
            " coat_271.jpg\t       pullover_457.jpg   sneaker_311.jpg   t-shirt_top_54.jpg\n",
            " coat_275.jpg\t       pullover_463.jpg   sneaker_312.jpg   t-shirt_top_60.jpg\n",
            " coat_284.jpg\t       pullover_57.jpg\t  sneaker_329.jpg   t-shirt_top_69.jpg\n",
            " coat_285.jpg\t       pullover_71.jpg\t  sneaker_338.jpg   t-shirt_top_83.jpg\n",
            " coat_295.jpg\t       pullover_72.jpg\t  sneaker_346.jpg   t-shirt_top_8.jpg\n",
            " coat_30.jpg\t       pullover_74.jpg\t  sneaker_347.jpg   t-shirt_top_97.jpg\n",
            " coat_318.jpg\t       pullover_93.jpg\t  sneaker_366.jpg   t-shirt_top_98.jpg\n"
          ]
        }
      ],
      "source": [
        "!ls test_images"
      ]
    },
    {
      "cell_type": "code",
      "execution_count": 45,
      "metadata": {
        "id": "aR20r4qW0jVm"
      },
      "outputs": [],
      "source": [
        "!zip -qq fmnist_test_images.zip -r test_images/"
      ]
    },
    {
      "cell_type": "code",
      "execution_count": 46,
      "metadata": {
        "id": "tjk4537X0kWN",
        "colab": {
          "base_uri": "https://localhost:8080/",
          "height": 17
        },
        "outputId": "7adbbb88-c1f8-4f59-dc64-932bdf7fc327"
      },
      "outputs": [
        {
          "output_type": "display_data",
          "data": {
            "application/javascript": [
              "\n",
              "    async function download(id, filename, size) {\n",
              "      if (!google.colab.kernel.accessAllowed) {\n",
              "        return;\n",
              "      }\n",
              "      const div = document.createElement('div');\n",
              "      const label = document.createElement('label');\n",
              "      label.textContent = `Downloading \"${filename}\": `;\n",
              "      div.appendChild(label);\n",
              "      const progress = document.createElement('progress');\n",
              "      progress.max = size;\n",
              "      div.appendChild(progress);\n",
              "      document.body.appendChild(div);\n",
              "\n",
              "      const buffers = [];\n",
              "      let downloaded = 0;\n",
              "\n",
              "      const channel = await google.colab.kernel.comms.open(id);\n",
              "      // Send a message to notify the kernel that we're ready.\n",
              "      channel.send({})\n",
              "\n",
              "      for await (const message of channel.messages) {\n",
              "        // Send a message to notify the kernel that we're ready.\n",
              "        channel.send({})\n",
              "        if (message.buffers) {\n",
              "          for (const buffer of message.buffers) {\n",
              "            buffers.push(buffer);\n",
              "            downloaded += buffer.byteLength;\n",
              "            progress.value = downloaded;\n",
              "          }\n",
              "        }\n",
              "      }\n",
              "      const blob = new Blob(buffers, {type: 'application/binary'});\n",
              "      const a = document.createElement('a');\n",
              "      a.href = window.URL.createObjectURL(blob);\n",
              "      a.download = filename;\n",
              "      div.appendChild(a);\n",
              "      a.click();\n",
              "      div.remove();\n",
              "    }\n",
              "  "
            ],
            "text/plain": [
              "<IPython.core.display.Javascript object>"
            ]
          },
          "metadata": {}
        },
        {
          "output_type": "display_data",
          "data": {
            "application/javascript": [
              "download(\"download_b42659a2-bad9-43b2-8c1f-a2125ae65206\", \"fmnist_test_images.zip\", 392426)"
            ],
            "text/plain": [
              "<IPython.core.display.Javascript object>"
            ]
          },
          "metadata": {}
        }
      ],
      "source": [
        "try:\n",
        "  files.download('fmnist_test_images.zip')\n",
        "except:\n",
        "  pass"
      ]
    }
  ],
  "metadata": {
    "accelerator": "GPU",
    "colab": {
      "collapsed_sections": [],
      "name": "Copy of tflite_c04_exercise_convert_model_to_tflite_solution.ipynb",
      "toc_visible": true,
      "provenance": [],
      "include_colab_link": true
    },
    "kernelspec": {
      "display_name": "Python 3",
      "name": "python3"
    }
  },
  "nbformat": 4,
  "nbformat_minor": 0
}